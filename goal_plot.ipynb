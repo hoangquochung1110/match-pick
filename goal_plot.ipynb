{
 "cells": [
  {
   "cell_type": "code",
   "execution_count": 1,
   "metadata": {},
   "outputs": [],
   "source": [
    "import requests\n",
    "from lxml import html\n",
    "from extract import Match, Goal\n",
    "import itertools\n",
    "from pages.match.match_detail_page import MatchDetailPage\n",
    "from decimal import Decimal\n",
    "from collections import defaultdict"
   ]
  },
  {
   "cell_type": "code",
   "execution_count": 17,
   "metadata": {},
   "outputs": [
    {
     "name": "stdout",
     "output_type": "stream",
     "text": [
      "('Not goal: ', \"Emerson Royal 62' Red Card\")\n"
     ]
    }
   ],
   "source": [
    "def sort_by_minute(goal: Goal):\n",
    "    \"\"\"Sort goals by minutes. Handle stoppage time.\"\"\"\n",
    "    x = goal.minute\n",
    "    if \"+\" in x:\n",
    "        x, y = x.split(\"+\")\n",
    "        return Decimal(\".\".join([x, y]))\n",
    "    else:\n",
    "        return int(x)\n",
    "\n",
    "match_ids = [\n",
    "    \"75181\",\n",
    "    \"75174\",\n",
    "    \"75161\",\n",
    "    \"74971\",\n",
    "    \"75156\",\n",
    "    \"75141\",\n",
    "    \"75021\",\n",
    "    \"75131\",\n",
    "    \"75125\",\n",
    "    \"75111\",\n",
    "    \"75109\",\n",
    "    \"75091\",\n",
    "    \"75082\",\n",
    "    \"75071\",\n",
    "    \"75070\",\n",
    "    \"75052\",\n",
    "    \"75041\",\n",
    "    \"75037\",\n",
    "    \"75014\",\n",
    "    \"75001\",\n",
    "    \"74991\",\n",
    "    \"74982\",\n",
    "    \"74966\",\n",
    "    \"74951\",\n",
    "    \"74941\",\n",
    "    \"74931\",\n",
    "    \"74921\",\n",
    "    \"74911\",\n",
    "]\n",
    "\n",
    "arsenal_matches = []\n",
    "match_url = \"https://www.premierleague.com/match/\"\n",
    "for match_id in match_ids:\n",
    "    # Make the request to the URL\n",
    "    response = requests.get(f\"{match_url}{match_id}\")\n",
    "    doc = html.fromstring(response.content)\n",
    "    match_page = MatchDetailPage(doc=doc)\n",
    "    match: Match = match_page.extract()\n",
    "    arsenal_matches.append(match)\n",
    "\n",
    "home_matches = []\n",
    "away_matches = []\n",
    "for match in arsenal_matches:\n",
    "    if match.home.short == \"ARS\":\n",
    "        home_matches.append(match)\n",
    "    elif match.away.short == \"ARS\":\n",
    "        away_matches.append(match)\n",
    "\n",
    "home_goals = []\n",
    "for match in home_matches:\n",
    "    home_goals.extend(match.home_events)\n",
    "away_goals = []\n",
    "for match in away_matches:\n",
    "    away_goals.extend(match.away_events)\n",
    "sorted_home_goals = sorted(home_goals, key=sort_by_minute)\n",
    "sorted_away_goals = sorted(away_goals, key=sort_by_minute)"
   ]
  },
  {
   "cell_type": "code",
   "execution_count": 18,
   "metadata": {},
   "outputs": [],
   "source": [
    "home_goals_dict = defaultdict(list)\n",
    "for minute, group in itertools.groupby(sorted_home_goals, key=lambda goal: goal.minute):\n",
    "    home_goals_dict[minute]=list(group)"
   ]
  },
  {
   "cell_type": "code",
   "execution_count": 19,
   "metadata": {},
   "outputs": [
    {
     "data": {
      "text/plain": [
       "<BarContainer object of 35 artists>"
      ]
     },
     "execution_count": 19,
     "metadata": {},
     "output_type": "execute_result"
    },
    {
     "data": {
      "image/png": "[encoded data removed]",
      "text/plain": [
       "<Figure size 640x480 with 1 Axes>"
      ]
     },
     "metadata": {},
     "output_type": "display_data"
    }
   ],
   "source": [
    "keys = home_goals_dict.keys()\n",
    "vals = [len(val) for val in home_goals_dict.values()]\n",
    "import matplotlib.pyplot as plt\n",
    "plt.bar(keys, vals)\n"
   ]
  },
  {
   "cell_type": "code",
   "execution_count": 12,
   "metadata": {},
   "outputs": [
    {
     "name": "stdout",
     "output_type": "stream",
     "text": [
      "1\n",
      "1\n",
      "1\n",
      "1\n",
      "1\n",
      "1\n",
      "1\n",
      "2\n",
      "1\n",
      "1\n",
      "1\n",
      "1\n",
      "1\n",
      "1\n",
      "1\n"
     ]
    }
   ],
   "source": [
    "for value in home_goals_dict.values():\n",
    "    print(len(value))"
   ]
  },
  {
   "cell_type": "code",
   "execution_count": 20,
   "metadata": {},
   "outputs": [
    {
     "data": {
      "text/plain": [
       "defaultdict(list,\n",
       "            {'1': [Goal(match='75001', minute='1', scorer='Gabriel Martinelli ', assist='')],\n",
       "             '5': [Goal(match='75041', minute='5', scorer='Gabriel Martinelli ', assist='')],\n",
       "             '20': [Goal(match='74991', minute='20', scorer='Thomas Partey ', assist='')],\n",
       "             '23': [Goal(match='74921', minute='23', scorer='Gabriel Jesus ', assist='')],\n",
       "             '24': [Goal(match='75111', minute='24', scorer='Eddie Nketiah ', assist='')],\n",
       "             '28': [Goal(match='75181', minute='28', scorer='Gabriel Martinelli ', assist='')],\n",
       "             '30': [Goal(match='74951', minute='30', scorer='Gabriel Jesus ', assist='')],\n",
       "             '35': [Goal(match='74921', minute='35', scorer='Gabriel Jesus ', assist='')],\n",
       "             '40': [Goal(match='74971', minute='40', scorer='Bukayo Saka ', assist='')],\n",
       "             '42': [Goal(match='75021', minute='42', scorer='Bukayo Saka ', assist='')],\n",
       "             '43': [Goal(match='75181', minute='43', scorer='Bukayo Saka ', assist='')],\n",
       "             '45+1': [Goal(match='74971', minute='45+1', scorer='Gabriel Martinelli ', assist='')],\n",
       "             '45+5': [Goal(match='75001', minute='45+5', scorer='Bukayo Saka ', assist='')],\n",
       "             '49': [Goal(match='75041', minute='49', scorer='Reiss Nelson ', assist=''),\n",
       "              Goal(match='74991', minute='49', scorer='Gabriel Jesus ', assist='')],\n",
       "             '52': [Goal(match='75041', minute='52', scorer='Reiss Nelson ', assist='')],\n",
       "             '53': [Goal(match='75111', minute='53', scorer='Bukayo Saka ', assist=''),\n",
       "              Goal(match='75071', minute='53', scorer='Bukayo Saka ', assist='')],\n",
       "             '55': [Goal(match='75181', minute='55', scorer='Granit Xhaka ', assist=''),\n",
       "              Goal(match='74921', minute='55', scorer='Granit Xhaka ', assist='')],\n",
       "             '57': [Goal(match='75041', minute='57', scorer='Thomas Partey ', assist='')],\n",
       "             '58': [Goal(match='75071', minute='58', scorer='Gabriel Martinelli ', assist='')],\n",
       "             '62': [Goal(match='75161', minute='62', scorer='Thomas Partey ', assist='')],\n",
       "             '64': [Goal(match='74941', minute='64', scorer='Martin ', assist='')],\n",
       "             '66': [Goal(match='75131', minute='66', scorer='Leandro Trossard ', assist='')],\n",
       "             '67': [Goal(match='74991', minute='67', scorer='Granit Xhaka ', assist='')],\n",
       "             '69': [Goal(match='75071', minute='69', scorer='Eddie Nketiah ', assist='')],\n",
       "             '70': [Goal(match='75161', minute='70', scorer='Ben White ', assist='')],\n",
       "             '71': [Goal(match='74971', minute='71', scorer='Martin ', assist='')],\n",
       "             '74': [Goal(match='75181', minute='74', scorer='Bukayo Saka ', assist='')],\n",
       "             '75': [Goal(match='74921', minute='75', scorer='Gabriel Martinelli ', assist='')],\n",
       "             '76': [Goal(match='75001', minute='76', scorer='Bukayo Saka ', assist='')],\n",
       "             '77': [Goal(match='74951', minute='77', scorer='Gabriel Martinelli ', assist='')],\n",
       "             '78': [Goal(match='75041', minute='78', scorer='Martin ', assist='')],\n",
       "             '80': [Goal(match='74971', minute='80', scorer='Gabriel Martinelli ', assist='')],\n",
       "             '86': [Goal(match='74941', minute='86', scorer='Gabriel Magalh', assist='')],\n",
       "             '90': [Goal(match='75111', minute='90', scorer='Eddie Nketiah ', assist='')],\n",
       "             '90+7': [Goal(match='75161', minute='90+7', scorer='Reiss Nelson ', assist='')]})"
      ]
     },
     "execution_count": 20,
     "metadata": {},
     "output_type": "execute_result"
    }
   ],
   "source": [
    "home_goals_dict"
   ]
  },
  {
   "cell_type": "code",
   "execution_count": 30,
   "metadata": {},
   "outputs": [
    {
     "data": {
      "text/plain": [
       "defaultdict(int, {'remaining': 30, 'first_15_mins': 1, 'last_15_mins': 7})"
      ]
     },
     "execution_count": 30,
     "metadata": {},
     "output_type": "execute_result"
    }
   ],
   "source": [
    "first_15_mins = (1, 16)\n",
    "last_15_mins = (75, 91)\n",
    "\n",
    "df = defaultdict(int)\n",
    "\n",
    "for minute, goal in home_goals_dict.items():\n",
    "    if \"+\" in minute:\n",
    "        x, y = minute.split(\"+\")\n",
    "        minute = Decimal(\".\".join([x, y]))\n",
    "    else:\n",
    "        minute = int(minute)\n",
    "    if minute > first_15_mins[0] and minute < first_15_mins[1]:\n",
    "        df[\"first_15_mins\"] += len(goal)\n",
    "    elif minute > last_15_mins[0] and minute < last_15_mins[1]:\n",
    "        df[\"last_15_mins\"] += len(goal)\n",
    "    else:\n",
    "        df[\"remaining\"] += len(goal)\n",
    "df"
   ]
  },
  {
   "cell_type": "code",
   "execution_count": 31,
   "metadata": {},
   "outputs": [
    {
     "data": {
      "text/plain": [
       "<BarContainer object of 3 artists>"
      ]
     },
     "execution_count": 31,
     "metadata": {},
     "output_type": "execute_result"
    },
    {
     "data": {
      "image/png": "[encoded data removed]",
      "text/plain": [
       "<Figure size 640x480 with 1 Axes>"
      ]
     },
     "metadata": {},
     "output_type": "display_data"
    }
   ],
   "source": [
    "plt.bar(df.keys(), df.values())"
   ]
  },
  {
   "cell_type": "code",
   "execution_count": 28,
   "metadata": {},
   "outputs": [
    {
     "data": {
      "text/plain": [
       "[[Goal(match='75001', minute='76', scorer='Bukayo Saka ', assist='')],\n",
       " [Goal(match='74951', minute='77', scorer='Gabriel Martinelli ', assist='')],\n",
       " [Goal(match='75041', minute='78', scorer='Martin ', assist='')],\n",
       " [Goal(match='74971', minute='80', scorer='Gabriel Martinelli ', assist='')],\n",
       " [Goal(match='74941', minute='86', scorer='Gabriel Magalh', assist='')],\n",
       " [Goal(match='75111', minute='90', scorer='Eddie Nketiah ', assist='')],\n",
       " [Goal(match='75161', minute='90+7', scorer='Reiss Nelson ', assist='')]]"
      ]
     },
     "execution_count": 28,
     "metadata": {},
     "output_type": "execute_result"
    }
   ],
   "source": []
  },
  {
   "cell_type": "code",
   "execution_count": 34,
   "metadata": {},
   "outputs": [
    {
     "data": {
      "text/plain": [
       "<BarContainer object of 3 artists>"
      ]
     },
     "execution_count": 34,
     "metadata": {},
     "output_type": "execute_result"
    },
    {
     "data": {
      "image/png": "[encoded data removed]",
      "text/plain": [
       "<Figure size 640x480 with 1 Axes>"
      ]
     },
     "metadata": {},
     "output_type": "display_data"
    }
   ],
   "source": [
    "total_goals = home_goals + away_goals\n",
    "sorted_total_goals = sorted(total_goals, key=sort_by_minute)\n",
    "total_goals_dict = defaultdict(list)\n",
    "for minute, group in itertools.groupby(sorted_total_goals, key=lambda goal: goal.minute):\n",
    "    total_goals_dict[minute]=list(group)\n",
    "\n",
    "first_15_mins = (1, 16)\n",
    "last_15_mins = (75, 91)\n",
    "\n",
    "df = defaultdict(int)\n",
    "\n",
    "for minute, goal in total_goals_dict.items():\n",
    "    if \"+\" in minute:\n",
    "        x, y = minute.split(\"+\")\n",
    "        minute = Decimal(\".\".join([x, y]))\n",
    "    else:\n",
    "        minute = int(minute)\n",
    "    if minute > first_15_mins[0] and minute < first_15_mins[1]:\n",
    "        df[\"first_15_mins\"] += len(goal)\n",
    "    elif minute > last_15_mins[0] and minute < last_15_mins[1]:\n",
    "        df[\"last_15_mins\"] += len(goal)\n",
    "    else:\n",
    "        df[\"remaining\"] += len(goal)\n",
    "\n",
    "import matplotlib.pyplot as plt\n",
    "plt.bar(df.keys(), df.values())"
   ]
  },
  {
   "cell_type": "code",
   "execution_count": null,
   "metadata": {},
   "outputs": [],
   "source": []
  }
 ],
 "metadata": {
  "kernelspec": {
   "display_name": "match-picker",
   "language": "python",
   "name": "python3"
  },
  "language_info": {
   "codemirror_mode": {
    "name": "ipython",
    "version": 3
   },
   "file_extension": ".py",
   "mimetype": "text/x-python",
   "name": "python",
   "nbconvert_exporter": "python",
   "pygments_lexer": "ipython3",
   "version": "3.10.1"
  },
  "orig_nbformat": 4,
  "vscode": {
   "interpreter": {
    "hash": "4189ad1a442f7204901cbb65dd12ff59bb32fe57a2a92c61d42f6191b191ebf4"
   }
  }
 },
 "nbformat": 4,
 "nbformat_minor": 2
}
